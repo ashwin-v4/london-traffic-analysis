{
 "cells": [
  {
   "cell_type": "code",
   "execution_count": 91,
   "id": "3ca88635-96f7-476b-8439-db298f7a96da",
   "metadata": {},
   "outputs": [],
   "source": [
    "import pandas as pd\n",
    "import numpy as np\n",
    "import matplotlib.pyplot as plt\n",
    "import seaborn as sns\n",
    "import sklearn"
   ]
  },
  {
   "cell_type": "code",
   "execution_count": 92,
   "id": "16ed4ade-99af-405f-a244-847364ef672f",
   "metadata": {},
   "outputs": [],
   "source": [
    "path_raw = \"dft_rawcount_region_id_6.csv\"\n",
    "path_count = \"dft_countpoints_region_id_6.csv\"\n",
    "\n",
    "df_raw = pd.read_csv(path_raw, low_memory=False)\n",
    "df_count = pd.read_csv(path_count)"
   ]
  },
  {
   "cell_type": "code",
   "execution_count": 93,
   "id": "cc3924d4-a46a-421d-b31a-e04da6af1c61",
   "metadata": {},
   "outputs": [
    {
     "name": "stdout",
     "output_type": "stream",
     "text": [
      "(414252, 32)\n",
      "(3630, 15)\n"
     ]
    }
   ],
   "source": [
    "print(df_raw.shape)\n",
    "print(df_count.shape)"
   ]
  },
  {
   "cell_type": "code",
   "execution_count": 94,
   "id": "6b8fd124-e6f5-4b51-b971-f8810f45734d",
   "metadata": {},
   "outputs": [
    {
     "data": {
      "text/html": [
       "<div>\n",
       "<style scoped>\n",
       "    .dataframe tbody tr th:only-of-type {\n",
       "        vertical-align: middle;\n",
       "    }\n",
       "\n",
       "    .dataframe tbody tr th {\n",
       "        vertical-align: top;\n",
       "    }\n",
       "\n",
       "    .dataframe thead th {\n",
       "        text-align: right;\n",
       "    }\n",
       "</style>\n",
       "<table border=\"1\" class=\"dataframe\">\n",
       "  <thead>\n",
       "    <tr style=\"text-align: right;\">\n",
       "      <th></th>\n",
       "      <th>count_point_id</th>\n",
       "      <th>direction_of_travel</th>\n",
       "      <th>year</th>\n",
       "      <th>count_date</th>\n",
       "      <th>hour</th>\n",
       "      <th>region_id</th>\n",
       "      <th>region_name</th>\n",
       "      <th>local_authority_id</th>\n",
       "      <th>local_authority_name</th>\n",
       "      <th>road_name</th>\n",
       "      <th>...</th>\n",
       "      <th>buses_and_coaches</th>\n",
       "      <th>lgvs</th>\n",
       "      <th>hgvs_2_rigid_axle</th>\n",
       "      <th>hgvs_3_rigid_axle</th>\n",
       "      <th>hgvs_4_or_more_rigid_axle</th>\n",
       "      <th>hgvs_3_or_4_articulated_axle</th>\n",
       "      <th>hgvs_5_articulated_axle</th>\n",
       "      <th>hgvs_6_articulated_axle</th>\n",
       "      <th>all_hgvs</th>\n",
       "      <th>all_motor_vehicles</th>\n",
       "    </tr>\n",
       "  </thead>\n",
       "  <tbody>\n",
       "    <tr>\n",
       "      <th>0</th>\n",
       "      <td>6000</td>\n",
       "      <td>S</td>\n",
       "      <td>2000</td>\n",
       "      <td>2000-03-27</td>\n",
       "      <td>7</td>\n",
       "      <td>6</td>\n",
       "      <td>London</td>\n",
       "      <td>57</td>\n",
       "      <td>Barnet</td>\n",
       "      <td>M1</td>\n",
       "      <td>...</td>\n",
       "      <td>5</td>\n",
       "      <td>421</td>\n",
       "      <td>30</td>\n",
       "      <td>5</td>\n",
       "      <td>4</td>\n",
       "      <td>6</td>\n",
       "      <td>11</td>\n",
       "      <td>11.0</td>\n",
       "      <td>67.0</td>\n",
       "      <td>2311.0</td>\n",
       "    </tr>\n",
       "    <tr>\n",
       "      <th>1</th>\n",
       "      <td>6000</td>\n",
       "      <td>N</td>\n",
       "      <td>2000</td>\n",
       "      <td>2000-03-27</td>\n",
       "      <td>14</td>\n",
       "      <td>6</td>\n",
       "      <td>London</td>\n",
       "      <td>57</td>\n",
       "      <td>Barnet</td>\n",
       "      <td>M1</td>\n",
       "      <td>...</td>\n",
       "      <td>20</td>\n",
       "      <td>330</td>\n",
       "      <td>66</td>\n",
       "      <td>1</td>\n",
       "      <td>14</td>\n",
       "      <td>14</td>\n",
       "      <td>26</td>\n",
       "      <td>17.0</td>\n",
       "      <td>138.0</td>\n",
       "      <td>1559.0</td>\n",
       "    </tr>\n",
       "    <tr>\n",
       "      <th>2</th>\n",
       "      <td>6000</td>\n",
       "      <td>S</td>\n",
       "      <td>2000</td>\n",
       "      <td>2000-03-27</td>\n",
       "      <td>17</td>\n",
       "      <td>6</td>\n",
       "      <td>London</td>\n",
       "      <td>57</td>\n",
       "      <td>Barnet</td>\n",
       "      <td>M1</td>\n",
       "      <td>...</td>\n",
       "      <td>6</td>\n",
       "      <td>64</td>\n",
       "      <td>9</td>\n",
       "      <td>0</td>\n",
       "      <td>1</td>\n",
       "      <td>7</td>\n",
       "      <td>12</td>\n",
       "      <td>2.0</td>\n",
       "      <td>31.0</td>\n",
       "      <td>710.0</td>\n",
       "    </tr>\n",
       "  </tbody>\n",
       "</table>\n",
       "<p>3 rows × 32 columns</p>\n",
       "</div>"
      ],
      "text/plain": [
       "   count_point_id direction_of_travel  year  count_date  hour  region_id  \\\n",
       "0            6000                   S  2000  2000-03-27     7          6   \n",
       "1            6000                   N  2000  2000-03-27    14          6   \n",
       "2            6000                   S  2000  2000-03-27    17          6   \n",
       "\n",
       "  region_name  local_authority_id local_authority_name road_name  ...  \\\n",
       "0      London                  57               Barnet        M1  ...   \n",
       "1      London                  57               Barnet        M1  ...   \n",
       "2      London                  57               Barnet        M1  ...   \n",
       "\n",
       "  buses_and_coaches lgvs hgvs_2_rigid_axle  hgvs_3_rigid_axle  \\\n",
       "0                 5  421                30                  5   \n",
       "1                20  330                66                  1   \n",
       "2                 6   64                 9                  0   \n",
       "\n",
       "   hgvs_4_or_more_rigid_axle  hgvs_3_or_4_articulated_axle  \\\n",
       "0                          4                             6   \n",
       "1                         14                            14   \n",
       "2                          1                             7   \n",
       "\n",
       "   hgvs_5_articulated_axle  hgvs_6_articulated_axle  all_hgvs  \\\n",
       "0                       11                     11.0      67.0   \n",
       "1                       26                     17.0     138.0   \n",
       "2                       12                      2.0      31.0   \n",
       "\n",
       "   all_motor_vehicles  \n",
       "0              2311.0  \n",
       "1              1559.0  \n",
       "2               710.0  \n",
       "\n",
       "[3 rows x 32 columns]"
      ]
     },
     "execution_count": 94,
     "metadata": {},
     "output_type": "execute_result"
    }
   ],
   "source": [
    "df_raw.head(3)"
   ]
  },
  {
   "cell_type": "code",
   "execution_count": 95,
   "id": "c267e4c0-06a0-4887-9dd2-024650244fd3",
   "metadata": {},
   "outputs": [
    {
     "data": {
      "text/html": [
       "<div>\n",
       "<style scoped>\n",
       "    .dataframe tbody tr th:only-of-type {\n",
       "        vertical-align: middle;\n",
       "    }\n",
       "\n",
       "    .dataframe tbody tr th {\n",
       "        vertical-align: top;\n",
       "    }\n",
       "\n",
       "    .dataframe thead th {\n",
       "        text-align: right;\n",
       "    }\n",
       "</style>\n",
       "<table border=\"1\" class=\"dataframe\">\n",
       "  <thead>\n",
       "    <tr style=\"text-align: right;\">\n",
       "      <th></th>\n",
       "      <th>count_point_id</th>\n",
       "      <th>region_id</th>\n",
       "      <th>region_name</th>\n",
       "      <th>local_authority_id</th>\n",
       "      <th>local_authority_name</th>\n",
       "      <th>road_name</th>\n",
       "      <th>road_type</th>\n",
       "      <th>start_junction_road_name</th>\n",
       "      <th>end_junction_road_name</th>\n",
       "      <th>easting</th>\n",
       "      <th>northing</th>\n",
       "      <th>latitude</th>\n",
       "      <th>longitude</th>\n",
       "      <th>link_length_km</th>\n",
       "      <th>link_length_miles</th>\n",
       "    </tr>\n",
       "  </thead>\n",
       "  <tbody>\n",
       "    <tr>\n",
       "      <th>0</th>\n",
       "      <td>999994</td>\n",
       "      <td>6</td>\n",
       "      <td>London</td>\n",
       "      <td>134</td>\n",
       "      <td>Croydon</td>\n",
       "      <td>U</td>\n",
       "      <td>Minor</td>\n",
       "      <td>NaN</td>\n",
       "      <td>NaN</td>\n",
       "      <td>531750</td>\n",
       "      <td>165000</td>\n",
       "      <td>51.368786</td>\n",
       "      <td>-0.108705</td>\n",
       "      <td>NaN</td>\n",
       "      <td>NaN</td>\n",
       "    </tr>\n",
       "    <tr>\n",
       "      <th>1</th>\n",
       "      <td>999993</td>\n",
       "      <td>6</td>\n",
       "      <td>London</td>\n",
       "      <td>134</td>\n",
       "      <td>Croydon</td>\n",
       "      <td>U</td>\n",
       "      <td>Minor</td>\n",
       "      <td>NaN</td>\n",
       "      <td>NaN</td>\n",
       "      <td>531050</td>\n",
       "      <td>157500</td>\n",
       "      <td>51.301545</td>\n",
       "      <td>-0.121511</td>\n",
       "      <td>NaN</td>\n",
       "      <td>NaN</td>\n",
       "    </tr>\n",
       "    <tr>\n",
       "      <th>2</th>\n",
       "      <td>999990</td>\n",
       "      <td>6</td>\n",
       "      <td>London</td>\n",
       "      <td>109</td>\n",
       "      <td>Westminster</td>\n",
       "      <td>B310</td>\n",
       "      <td>Minor</td>\n",
       "      <td>NaN</td>\n",
       "      <td>NaN</td>\n",
       "      <td>528194</td>\n",
       "      <td>179375</td>\n",
       "      <td>51.498787</td>\n",
       "      <td>-0.154563</td>\n",
       "      <td>NaN</td>\n",
       "      <td>NaN</td>\n",
       "    </tr>\n",
       "  </tbody>\n",
       "</table>\n",
       "</div>"
      ],
      "text/plain": [
       "   count_point_id  region_id region_name  local_authority_id  \\\n",
       "0          999994          6      London                 134   \n",
       "1          999993          6      London                 134   \n",
       "2          999990          6      London                 109   \n",
       "\n",
       "  local_authority_name road_name road_type start_junction_road_name  \\\n",
       "0              Croydon         U     Minor                      NaN   \n",
       "1              Croydon         U     Minor                      NaN   \n",
       "2          Westminster      B310     Minor                      NaN   \n",
       "\n",
       "  end_junction_road_name  easting  northing   latitude  longitude  \\\n",
       "0                    NaN   531750    165000  51.368786  -0.108705   \n",
       "1                    NaN   531050    157500  51.301545  -0.121511   \n",
       "2                    NaN   528194    179375  51.498787  -0.154563   \n",
       "\n",
       "   link_length_km  link_length_miles  \n",
       "0             NaN                NaN  \n",
       "1             NaN                NaN  \n",
       "2             NaN                NaN  "
      ]
     },
     "execution_count": 95,
     "metadata": {},
     "output_type": "execute_result"
    }
   ],
   "source": [
    "df_count.head(3)"
   ]
  },
  {
   "cell_type": "code",
   "execution_count": 96,
   "id": "f7d502e1-ed5d-4b5b-9724-c4a9235032cc",
   "metadata": {},
   "outputs": [
    {
     "name": "stdout",
     "output_type": "stream",
     "text": [
      "0\n",
      "0\n"
     ]
    }
   ],
   "source": [
    "print(df_raw.duplicated().sum())\n",
    "print(df_count.duplicated().sum())"
   ]
  },
  {
   "cell_type": "markdown",
   "id": "f02583e1-9b4f-4b8f-9d9d-6fc39d17ba0b",
   "metadata": {},
   "source": [
    "<b>No Duplicates</b>"
   ]
  },
  {
   "cell_type": "code",
   "execution_count": 98,
   "id": "a7ee99bd-697f-4ba0-99ec-70151e37c360",
   "metadata": {},
   "outputs": [
    {
     "name": "stdout",
     "output_type": "stream",
     "text": [
      "<class 'pandas.core.frame.DataFrame'>\n",
      "RangeIndex: 414252 entries, 0 to 414251\n",
      "Data columns (total 32 columns):\n",
      " #   Column                        Non-Null Count   Dtype  \n",
      "---  ------                        --------------   -----  \n",
      " 0   count_point_id                414252 non-null  int64  \n",
      " 1   direction_of_travel           414252 non-null  object \n",
      " 2   year                          414252 non-null  int64  \n",
      " 3   count_date                    414252 non-null  object \n",
      " 4   hour                          414252 non-null  int64  \n",
      " 5   region_id                     414252 non-null  int64  \n",
      " 6   region_name                   414252 non-null  object \n",
      " 7   local_authority_id            414252 non-null  int64  \n",
      " 8   local_authority_name          414252 non-null  object \n",
      " 9   road_name                     414252 non-null  object \n",
      " 10  road_type                     414252 non-null  object \n",
      " 11  start_junction_road_name      231624 non-null  object \n",
      " 12  end_junction_road_name        231624 non-null  object \n",
      " 13  easting                       414252 non-null  int64  \n",
      " 14  northing                      414252 non-null  int64  \n",
      " 15  latitude                      414252 non-null  float64\n",
      " 16  longitude                     414252 non-null  float64\n",
      " 17  link_length_km                231696 non-null  float64\n",
      " 18  link_length_miles             231696 non-null  float64\n",
      " 19  pedal_cycles                  414252 non-null  int64  \n",
      " 20  two_wheeled_motor_vehicles    414252 non-null  int64  \n",
      " 21  cars_and_taxis                414252 non-null  int64  \n",
      " 22  buses_and_coaches             414252 non-null  int64  \n",
      " 23  lgvs                          414252 non-null  int64  \n",
      " 24  hgvs_2_rigid_axle             414252 non-null  int64  \n",
      " 25  hgvs_3_rigid_axle             414252 non-null  int64  \n",
      " 26  hgvs_4_or_more_rigid_axle     414252 non-null  int64  \n",
      " 27  hgvs_3_or_4_articulated_axle  414252 non-null  int64  \n",
      " 28  hgvs_5_articulated_axle       414252 non-null  int64  \n",
      " 29  hgvs_6_articulated_axle       414251 non-null  float64\n",
      " 30  all_hgvs                      414251 non-null  float64\n",
      " 31  all_motor_vehicles            414251 non-null  float64\n",
      "dtypes: float64(7), int64(17), object(8)\n",
      "memory usage: 101.1+ MB\n"
     ]
    }
   ],
   "source": [
    "df_raw.info()"
   ]
  },
  {
   "cell_type": "code",
   "execution_count": 99,
   "id": "b1166c6b-ffdd-4db0-8377-ae3bc3e14a67",
   "metadata": {},
   "outputs": [
    {
     "name": "stdout",
     "output_type": "stream",
     "text": [
      "<class 'pandas.core.frame.DataFrame'>\n",
      "RangeIndex: 3630 entries, 0 to 3629\n",
      "Data columns (total 15 columns):\n",
      " #   Column                    Non-Null Count  Dtype  \n",
      "---  ------                    --------------  -----  \n",
      " 0   count_point_id            3630 non-null   int64  \n",
      " 1   region_id                 3630 non-null   int64  \n",
      " 2   region_name               3630 non-null   object \n",
      " 3   local_authority_id        3630 non-null   int64  \n",
      " 4   local_authority_name      3630 non-null   object \n",
      " 5   road_name                 3630 non-null   object \n",
      " 6   road_type                 3630 non-null   object \n",
      " 7   start_junction_road_name  1985 non-null   object \n",
      " 8   end_junction_road_name    1985 non-null   object \n",
      " 9   easting                   3630 non-null   int64  \n",
      " 10  northing                  3630 non-null   int64  \n",
      " 11  latitude                  3630 non-null   float64\n",
      " 12  longitude                 3630 non-null   float64\n",
      " 13  link_length_km            1988 non-null   float64\n",
      " 14  link_length_miles         1988 non-null   float64\n",
      "dtypes: float64(4), int64(5), object(6)\n",
      "memory usage: 425.5+ KB\n"
     ]
    }
   ],
   "source": [
    "df_count.info()"
   ]
  },
  {
   "cell_type": "markdown",
   "id": "1ee427f7-aaf1-4cc8-b666-070cd36cf7ea",
   "metadata": {},
   "source": [
    "## Merge Dataframes"
   ]
  },
  {
   "cell_type": "code",
   "execution_count": 101,
   "id": "da06902a-af8e-42d5-b1ae-b266cf5ff0fd",
   "metadata": {},
   "outputs": [],
   "source": [
    "df_merged = pd.merge(\n",
    "    left = df_raw,\n",
    "    right = df_count,\n",
    "    how = \"left\",\n",
    "    on = \"count_point_id\",\n",
    "    suffixes=('_raw', '_count')\n",
    ")"
   ]
  },
  {
   "cell_type": "code",
   "execution_count": 102,
   "id": "8a8c01fc-e1a5-4d4d-b1b9-f2bfb770aee4",
   "metadata": {},
   "outputs": [
    {
     "data": {
      "text/plain": [
       "(414252, 46)"
      ]
     },
     "execution_count": 102,
     "metadata": {},
     "output_type": "execute_result"
    }
   ],
   "source": [
    "df_merged.shape"
   ]
  },
  {
   "cell_type": "code",
   "execution_count": 103,
   "id": "5cc86e38-ee2d-43d5-9390-69e6ab7ec100",
   "metadata": {},
   "outputs": [
    {
     "data": {
      "text/plain": [
       "0"
      ]
     },
     "execution_count": 103,
     "metadata": {},
     "output_type": "execute_result"
    }
   ],
   "source": [
    "df_merged.duplicated().sum()"
   ]
  },
  {
   "cell_type": "markdown",
   "id": "47370add-39c1-400a-ae5d-82ecc22a1f79",
   "metadata": {},
   "source": [
    "# Null Values"
   ]
  },
  {
   "cell_type": "markdown",
   "id": "f2068f3d-55e9-48a0-8b0a-c2456a349df5",
   "metadata": {},
   "source": [
    "### Null Percentage"
   ]
  },
  {
   "cell_type": "code",
   "execution_count": 106,
   "id": "e4f931fb-a106-4e2e-85d1-9ccfd35d0f4f",
   "metadata": {},
   "outputs": [
    {
     "data": {
      "text/plain": [
       "count_point_id                         0\n",
       "direction_of_travel                    0\n",
       "year                                   0\n",
       "count_date                             0\n",
       "hour                                   0\n",
       "region_id_raw                          0\n",
       "region_name_raw                        0\n",
       "local_authority_id_raw                 0\n",
       "local_authority_name_raw               0\n",
       "road_name_raw                          0\n",
       "road_type_raw                          0\n",
       "start_junction_road_name_raw      182628\n",
       "end_junction_road_name_raw        182628\n",
       "easting_raw                            0\n",
       "northing_raw                           0\n",
       "latitude_raw                           0\n",
       "longitude_raw                          0\n",
       "link_length_km_raw                182556\n",
       "link_length_miles_raw             182556\n",
       "pedal_cycles                           0\n",
       "two_wheeled_motor_vehicles             0\n",
       "cars_and_taxis                         0\n",
       "buses_and_coaches                      0\n",
       "lgvs                                   0\n",
       "hgvs_2_rigid_axle                      0\n",
       "hgvs_3_rigid_axle                      0\n",
       "hgvs_4_or_more_rigid_axle              0\n",
       "hgvs_3_or_4_articulated_axle           0\n",
       "hgvs_5_articulated_axle                0\n",
       "hgvs_6_articulated_axle                1\n",
       "all_hgvs                               1\n",
       "all_motor_vehicles                     1\n",
       "region_id_count                        0\n",
       "region_name_count                      0\n",
       "local_authority_id_count               0\n",
       "local_authority_name_count             0\n",
       "road_name_count                        0\n",
       "road_type_count                        0\n",
       "start_junction_road_name_count    182628\n",
       "end_junction_road_name_count      182628\n",
       "easting_count                          0\n",
       "northing_count                         0\n",
       "latitude_count                         0\n",
       "longitude_count                        0\n",
       "link_length_km_count              182556\n",
       "link_length_miles_count           182556\n",
       "dtype: int64"
      ]
     },
     "execution_count": 106,
     "metadata": {},
     "output_type": "execute_result"
    }
   ],
   "source": [
    "df_merged.isnull().sum()"
   ]
  },
  {
   "cell_type": "code",
   "execution_count": 107,
   "id": "c700d4f4-bbe4-4189-b860-c88bbbf8de76",
   "metadata": {},
   "outputs": [],
   "source": [
    "all_null_columns = [\"start_junction_road_name_count\", \"end_junction_road_name_count\", \"link_length_km_count\", \"link_length_miles_count\",\n",
    "\"start_junction_road_name_raw\", \"end_junction_road_name_raw\", \n",
    "\"hgvs_6_articulated_axle\", \"all_hgvs\", \"all_motor_vehicles\",\n",
    "\"link_length_km_raw\", \"link_length_miles_raw\"]"
   ]
  },
  {
   "cell_type": "code",
   "execution_count": 108,
   "id": "5c0f7109-82da-458e-b114-e13aaff25919",
   "metadata": {},
   "outputs": [
    {
     "data": {
      "text/plain": [
       "start_junction_road_name_count     object\n",
       "end_junction_road_name_count       object\n",
       "link_length_km_count              float64\n",
       "link_length_miles_count           float64\n",
       "start_junction_road_name_raw       object\n",
       "end_junction_road_name_raw         object\n",
       "hgvs_6_articulated_axle           float64\n",
       "all_hgvs                          float64\n",
       "all_motor_vehicles                float64\n",
       "link_length_km_raw                float64\n",
       "link_length_miles_raw             float64\n",
       "dtype: object"
      ]
     },
     "execution_count": 108,
     "metadata": {},
     "output_type": "execute_result"
    }
   ],
   "source": [
    "df_merged[all_null_columns].dtypes"
   ]
  },
  {
   "cell_type": "code",
   "execution_count": 109,
   "id": "b3cc33eb-3bfa-45b7-9162-edc499a274a3",
   "metadata": {},
   "outputs": [
    {
     "data": {
      "image/png": "[encoded data removed]",
      "text/plain": [
       "<Figure size 1200x600 with 1 Axes>"
      ]
     },
     "metadata": {},
     "output_type": "display_data"
    }
   ],
   "source": [
    "null_series = df_copy[all_null_columns].isnull().sum()\n",
    "\n",
    "total_rows = len(df_copy)\n",
    "\n",
    "# Calculate null percentage\n",
    "null_percent = (null_series / total_rows) * 100\n",
    "\n",
    "# Plot\n",
    "plt.figure(figsize=(12, 6))\n",
    "bars = plt.bar(null_percent.index, null_percent, color='skyblue', edgecolor='black')\n",
    "\n",
    "# Annotate percentage on top of bars\n",
    "for bar, pct in zip(bars, null_percent):\n",
    "    plt.text(\n",
    "        bar.get_x() + bar.get_width() / 2,\n",
    "        bar.get_height() + 0.5,\n",
    "        f\"{pct:.2f}%\",\n",
    "        ha='center',\n",
    "        va='bottom',\n",
    "        fontsize=10,\n",
    "        fontweight='bold'\n",
    "    )\n",
    "\n",
    "plt.title(\"Null Value Percentage per Feature\", fontsize=14)\n",
    "plt.ylabel(\"Percentage of Missing Values (%)\")\n",
    "plt.xticks(rotation=45, ha='right')\n",
    "plt.ylim(0, 100)  # Y-axis in percentage terms\n",
    "plt.grid(axis='y', linestyle='--', alpha=0.7)\n",
    "plt.tight_layout()\n",
    "plt.show()"
   ]
  },
  {
   "cell_type": "code",
   "execution_count": 110,
   "id": "c44e5d91-50ad-4329-bc1f-beffbb00aba9",
   "metadata": {},
   "outputs": [
    {
     "name": "stdout",
     "output_type": "stream",
     "text": [
      "Null Value Percentage: 0.00024%\n"
     ]
    }
   ],
   "source": [
    "print(f\"Null Value Percentage: {1/(len(df_copy)) * 100 :.5f}%\")"
   ]
  },
  {
   "cell_type": "markdown",
   "id": "c21f67cf-7123-4906-b5fc-781136c68ce4",
   "metadata": {},
   "source": [
    "### Drop Columns"
   ]
  },
  {
   "cell_type": "code",
   "execution_count": 112,
   "id": "b9c2f23d-a1ec-4b96-a112-7d4f3f6a0b98",
   "metadata": {},
   "outputs": [],
   "source": [
    "repeated_columns = [\n",
    "    \"region_id_count\", \"region_name_count\", \"local_authority_id_count\", \n",
    "    \"local_authority_name_count\", \"road_name_count\", \"road_type_count\", \n",
    "    \"easting_count\", \"northing_count\", \"latitude_count\", \"longitude_count\",\n",
    "    \"link_length_km_count\", \"link_length_miles_count\",\n",
    "    \"start_junction_road_name_count\", \"end_junction_road_name_count\"\n",
    "]\n",
    "\n",
    "useless_null_columns = [\n",
    "    \"start_junction_road_name_raw\", \"end_junction_road_name_raw\"\n",
    "]\n",
    "\n",
    "df_clean = df_merged.drop(columns=repeated_columns + useless_null_columns)"
   ]
  },
  {
   "cell_type": "markdown",
   "id": "0777771a-2cbf-4090-ae24-f6ee75ec35df",
   "metadata": {},
   "source": [
    "### Impute 1 Null Value in 3 columns"
   ]
  },
  {
   "cell_type": "code",
   "execution_count": 114,
   "id": "f0193342-d000-436d-b98a-b10223fe54a8",
   "metadata": {},
   "outputs": [
    {
     "name": "stderr",
     "output_type": "stream",
     "text": [
      "C:\\Users\\91741\\AppData\\Local\\Temp\\ipykernel_20068\\3244064416.py:5: FutureWarning: A value is trying to be set on a copy of a DataFrame or Series through chained assignment using an inplace method.\n",
      "The behavior will change in pandas 3.0. This inplace method will never work because the intermediate object on which we are setting values always behaves as a copy.\n",
      "\n",
      "For example, when doing 'df[col].method(value, inplace=True)', try using 'df.method({col: value}, inplace=True)' or df[col] = df[col].method(value) instead, to perform the operation inplace on the original object.\n",
      "\n",
      "\n",
      "  df_clean[col].fillna(mean_value, inplace=True)\n"
     ]
    }
   ],
   "source": [
    "small_null_cols = [\"hgvs_6_articulated_axle\", \"all_hgvs\", \"all_motor_vehicles\"]\n",
    "\n",
    "for col in small_null_cols:\n",
    "    mean_value = df_clean[col].mean()\n",
    "    df_clean[col].fillna(mean_value, inplace=True)"
   ]
  },
  {
   "cell_type": "markdown",
   "id": "07d901b0-e5ea-4814-9712-e94720487d4c",
   "metadata": {},
   "source": [
    "### Impute 44% of data"
   ]
  },
  {
   "cell_type": "code",
   "execution_count": 115,
   "id": "56fd6878-d026-4580-9481-2a0bd1791554",
   "metadata": {},
   "outputs": [
    {
     "name": "stderr",
     "output_type": "stream",
     "text": [
      "C:\\Users\\91741\\AppData\\Local\\Temp\\ipykernel_20068\\972501844.py:5: FutureWarning: A value is trying to be set on a copy of a DataFrame or Series through chained assignment using an inplace method.\n",
      "The behavior will change in pandas 3.0. This inplace method will never work because the intermediate object on which we are setting values always behaves as a copy.\n",
      "\n",
      "For example, when doing 'df[col].method(value, inplace=True)', try using 'df.method({col: value}, inplace=True)' or df[col] = df[col].method(value) instead, to perform the operation inplace on the original object.\n",
      "\n",
      "\n",
      "  df_clean[col].fillna(median_value, inplace=True)\n",
      "C:\\Users\\91741\\AppData\\Local\\Temp\\ipykernel_20068\\972501844.py:5: FutureWarning: A value is trying to be set on a copy of a DataFrame or Series through chained assignment using an inplace method.\n",
      "The behavior will change in pandas 3.0. This inplace method will never work because the intermediate object on which we are setting values always behaves as a copy.\n",
      "\n",
      "For example, when doing 'df[col].method(value, inplace=True)', try using 'df.method({col: value}, inplace=True)' or df[col] = df[col].method(value) instead, to perform the operation inplace on the original object.\n",
      "\n",
      "\n",
      "  df_clean[col].fillna(median_value, inplace=True)\n"
     ]
    }
   ],
   "source": [
    "big_null_cols = [\"link_length_km_raw\", \"link_length_miles_raw\"]\n",
    "\n",
    "for col in big_null_cols:\n",
    "    median_value = df_clean[col].median()\n",
    "    df_clean[col].fillna(median_value, inplace=True)"
   ]
  },
  {
   "cell_type": "code",
   "execution_count": 116,
   "id": "8d012130-f8db-4f60-8758-93c5e4fa680f",
   "metadata": {},
   "outputs": [
    {
     "name": "stdout",
     "output_type": "stream",
     "text": [
      "0\n",
      "0\n"
     ]
    }
   ],
   "source": [
    "print(df_clean.isnull().sum().sum())\n",
    "print(df_clean.duplicated().sum())"
   ]
  },
  {
   "cell_type": "code",
   "execution_count": 117,
   "id": "983333fb-30c4-4324-946a-c553c6baa0c9",
   "metadata": {},
   "outputs": [],
   "source": [
    "df_clean.to_csv(\"df_clean.csv\", index=False)"
   ]
  },
  {
   "cell_type": "code",
   "execution_count": 118,
   "id": "e0842c44-d3e0-4b63-b873-433b305821d8",
   "metadata": {},
   "outputs": [
    {
     "name": "stdout",
     "output_type": "stream",
     "text": [
      "<class 'pandas.core.frame.DataFrame'>\n",
      "RangeIndex: 414252 entries, 0 to 414251\n",
      "Data columns (total 30 columns):\n",
      " #   Column                        Non-Null Count   Dtype  \n",
      "---  ------                        --------------   -----  \n",
      " 0   count_point_id                414252 non-null  int64  \n",
      " 1   direction_of_travel           414252 non-null  object \n",
      " 2   year                          414252 non-null  int64  \n",
      " 3   count_date                    414252 non-null  object \n",
      " 4   hour                          414252 non-null  int64  \n",
      " 5   region_id_raw                 414252 non-null  int64  \n",
      " 6   region_name_raw               414252 non-null  object \n",
      " 7   local_authority_id_raw        414252 non-null  int64  \n",
      " 8   local_authority_name_raw      414252 non-null  object \n",
      " 9   road_name_raw                 414252 non-null  object \n",
      " 10  road_type_raw                 414252 non-null  object \n",
      " 11  easting_raw                   414252 non-null  int64  \n",
      " 12  northing_raw                  414252 non-null  int64  \n",
      " 13  latitude_raw                  414252 non-null  float64\n",
      " 14  longitude_raw                 414252 non-null  float64\n",
      " 15  link_length_km_raw            414252 non-null  float64\n",
      " 16  link_length_miles_raw         414252 non-null  float64\n",
      " 17  pedal_cycles                  414252 non-null  int64  \n",
      " 18  two_wheeled_motor_vehicles    414252 non-null  int64  \n",
      " 19  cars_and_taxis                414252 non-null  int64  \n",
      " 20  buses_and_coaches             414252 non-null  int64  \n",
      " 21  lgvs                          414252 non-null  int64  \n",
      " 22  hgvs_2_rigid_axle             414252 non-null  int64  \n",
      " 23  hgvs_3_rigid_axle             414252 non-null  int64  \n",
      " 24  hgvs_4_or_more_rigid_axle     414252 non-null  int64  \n",
      " 25  hgvs_3_or_4_articulated_axle  414252 non-null  int64  \n",
      " 26  hgvs_5_articulated_axle       414252 non-null  int64  \n",
      " 27  hgvs_6_articulated_axle       414252 non-null  float64\n",
      " 28  all_hgvs                      414252 non-null  float64\n",
      " 29  all_motor_vehicles            414252 non-null  float64\n",
      "dtypes: float64(7), int64(17), object(6)\n",
      "memory usage: 94.8+ MB\n"
     ]
    }
   ],
   "source": [
    "df_clean.info()"
   ]
  },
  {
   "cell_type": "code",
   "execution_count": null,
   "id": "51553017-a83e-4adc-aabd-aff9ff986000",
   "metadata": {},
   "outputs": [],
   "source": []
  }
 ],
 "metadata": {
  "kernelspec": {
   "display_name": "Python (pytorch_vision)",
   "language": "python",
   "name": "pytorch_vision"
  },
  "language_info": {
   "codemirror_mode": {
    "name": "ipython",
    "version": 3
   },
   "file_extension": ".py",
   "mimetype": "text/x-python",
   "name": "python",
   "nbconvert_exporter": "python",
   "pygments_lexer": "ipython3",
   "version": "3.12.3"
  }
 },
 "nbformat": 4,
 "nbformat_minor": 5
}
